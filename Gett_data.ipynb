{
 "cells": [
  {
   "cell_type": "markdown",
   "id": "8a417d97",
   "metadata": {},
   "source": [
    "# Insights from failed orders"
   ]
  },
  {
   "cell_type": "markdown",
   "id": "436e6a7b",
   "metadata": {},
   "source": [
    "## Introduction"
   ]
  },
  {
   "cell_type": "markdown",
   "id": "3c57df00",
   "metadata": {},
   "source": [
    "Gett, a technology platform focused on transportation management, has an application that allows customers to order taxi and drivers to accept their rides.\n",
    "\n",
    "In this project, I would like to investigate some matching metrics for orders that were not completed successfully (the curstomer did not end up getting a car).\n",
    "\n",
    "The analysis consists of the following components:\n",
    "- Building up a distribution of orders according to reasons for failure: cancellations before and after assignment, and the reason for order rejection.\n",
    "- Plotting the distribution of failed orders by hour, and check is there a trend that certain hours have an abnormally high proportion of one category than another, and how could the trend be explained.\n",
    "- Plotting the average time to cancellation with and without drive to check if there are any outliers in the data. If there are, remove them and draw further conclusions from the plot\n",
    "- Plotting the distribution of average ETA by hours and explain the trend observed in the plot."
   ]
  },
  {
   "cell_type": "markdown",
   "id": "7677dbd6",
   "metadata": {},
   "source": [
    "## Data Description\n",
    "Two datasets are provided: data_orders and data_offers.\n",
    "data_orders contains the following columns:\n",
    "-  ordr_datetime\n",
    "- orgin_longtitude\n",
    "- origin_latitude\n",
    "- m_order_eta\t\n",
    "- order_gk\t\n",
    "- order_status_key\n",
    "    - 4 - cancelled by client\n",
    "    - 9 - cancelled by system\n",
    "- is_driver_assigned_key\t\n",
    "- cancellations_time_in_seconds\n",
    "\n",
    "data_offers contains the following columns:\n",
    "- order_gk\n",
    "- offer_id"
   ]
  },
  {
   "cell_type": "markdown",
   "id": "590b305c",
   "metadata": {},
   "source": [
    "## Preliminary data examination and manipulation"
   ]
  },
  {
   "cell_type": "code",
   "execution_count": 2,
   "id": "66ca34d8",
   "metadata": {},
   "outputs": [],
   "source": [
    "import numpy as np\n",
    "import pandas as pd"
   ]
  },
  {
   "cell_type": "markdown",
   "id": "36f74f36",
   "metadata": {},
   "source": [
    "Start off by importing datasets, and investigate them one by one"
   ]
  },
  {
   "cell_type": "code",
   "execution_count": 3,
   "id": "c52b8c17",
   "metadata": {},
   "outputs": [],
   "source": [
    "offers = pd.read_csv('C:/Users/weila/Desktop/datasets_Gett/datasets/data_offers.csv')\n",
    "orders = pd.read_csv('C:/Users/weila/Desktop/datasets_Gett/datasets/data_orders.csv')"
   ]
  },
  {
   "cell_type": "code",
   "execution_count": 4,
   "id": "ef58ec9c",
   "metadata": {},
   "outputs": [
    {
     "name": "stdout",
     "output_type": "stream",
     "text": [
      "(10716, 8)\n"
     ]
    }
   ],
   "source": [
    "print(orders.shape)"
   ]
  },
  {
   "cell_type": "code",
   "execution_count": 5,
   "id": "a994b32d",
   "metadata": {},
   "outputs": [
    {
     "data": {
      "text/plain": [
       "order_datetime                   0.000000\n",
       "origin_longitude                 0.000000\n",
       "origin_latitude                  0.000000\n",
       "m_order_eta                      0.737402\n",
       "order_gk                         0.000000\n",
       "order_status_key                 0.000000\n",
       "is_driver_assigned_key           0.000000\n",
       "cancellations_time_in_seconds    0.318122\n",
       "dtype: float64"
      ]
     },
     "execution_count": 5,
     "metadata": {},
     "output_type": "execute_result"
    }
   ],
   "source": [
    "# Investigating the proportion of missing values\n",
    "orders.isnull().sum()/orders.shape[0]"
   ]
  },
  {
   "cell_type": "code",
   "execution_count": 6,
   "id": "a7dabd2f",
   "metadata": {},
   "outputs": [
    {
     "name": "stdout",
     "output_type": "stream",
     "text": [
      "<class 'pandas.core.frame.DataFrame'>\n",
      "RangeIndex: 10716 entries, 0 to 10715\n",
      "Data columns (total 8 columns):\n",
      " #   Column                         Non-Null Count  Dtype  \n",
      "---  ------                         --------------  -----  \n",
      " 0   order_datetime                 10716 non-null  object \n",
      " 1   origin_longitude               10716 non-null  float64\n",
      " 2   origin_latitude                10716 non-null  float64\n",
      " 3   m_order_eta                    2814 non-null   float64\n",
      " 4   order_gk                       10716 non-null  int64  \n",
      " 5   order_status_key               10716 non-null  int64  \n",
      " 6   is_driver_assigned_key         10716 non-null  int64  \n",
      " 7   cancellations_time_in_seconds  7307 non-null   float64\n",
      "dtypes: float64(4), int64(3), object(1)\n",
      "memory usage: 669.9+ KB\n"
     ]
    }
   ],
   "source": [
    "# Inspect data formats and missing values in the dataset\n",
    "orders.info()"
   ]
  },
  {
   "cell_type": "code",
   "execution_count": 7,
   "id": "d5e0ef72",
   "metadata": {},
   "outputs": [
    {
     "name": "stdout",
     "output_type": "stream",
     "text": [
      "<class 'pandas.core.frame.DataFrame'>\n",
      "RangeIndex: 10716 entries, 0 to 10715\n",
      "Data columns (total 8 columns):\n",
      " #   Column                         Non-Null Count  Dtype         \n",
      "---  ------                         --------------  -----         \n",
      " 0   order_datetime                 10716 non-null  datetime64[ns]\n",
      " 1   origin_longitude               10716 non-null  float64       \n",
      " 2   origin_latitude                10716 non-null  float64       \n",
      " 3   m_order_eta                    2814 non-null   float64       \n",
      " 4   order_gk                       10716 non-null  int64         \n",
      " 5   order_status_key               10716 non-null  int64         \n",
      " 6   is_driver_assigned_key         10716 non-null  int64         \n",
      " 7   cancellations_time_in_seconds  7307 non-null   float64       \n",
      "dtypes: datetime64[ns](1), float64(4), int64(3)\n",
      "memory usage: 669.9 KB\n"
     ]
    }
   ],
   "source": [
    "# Convert order_datetime from string to datetime format for easier manipulation\n",
    "orders.order_datetime = pd.to_datetime(orders.order_datetime)\n",
    "orders.info()"
   ]
  },
  {
   "cell_type": "markdown",
   "id": "d1251821",
   "metadata": {},
   "source": [
    "I will examine offers dataset next following the same procedure."
   ]
  },
  {
   "cell_type": "code",
   "execution_count": 8,
   "id": "d5927aa3",
   "metadata": {},
   "outputs": [
    {
     "name": "stdout",
     "output_type": "stream",
     "text": [
      "(334363, 2)\n"
     ]
    }
   ],
   "source": [
    "print(offers.shape)"
   ]
  },
  {
   "cell_type": "code",
   "execution_count": 9,
   "id": "a6a7cc79",
   "metadata": {},
   "outputs": [
    {
     "data": {
      "text/plain": [
       "order_gk    0\n",
       "offer_id    0\n",
       "dtype: int64"
      ]
     },
     "execution_count": 9,
     "metadata": {},
     "output_type": "execute_result"
    }
   ],
   "source": [
    "offers.isnull().sum()"
   ]
  },
  {
   "cell_type": "code",
   "execution_count": 10,
   "id": "83f14fb6",
   "metadata": {},
   "outputs": [
    {
     "name": "stdout",
     "output_type": "stream",
     "text": [
      "<class 'pandas.core.frame.DataFrame'>\n",
      "RangeIndex: 334363 entries, 0 to 334362\n",
      "Data columns (total 2 columns):\n",
      " #   Column    Non-Null Count   Dtype\n",
      "---  ------    --------------   -----\n",
      " 0   order_gk  334363 non-null  int64\n",
      " 1   offer_id  334363 non-null  int64\n",
      "dtypes: int64(2)\n",
      "memory usage: 5.1 MB\n"
     ]
    }
   ],
   "source": [
    "offers.info()"
   ]
  },
  {
   "cell_type": "code",
   "execution_count": 11,
   "id": "fdfaee13",
   "metadata": {},
   "outputs": [
    {
     "data": {
      "text/plain": [
       "6    order_gk\n",
       "dtype: object"
      ]
     },
     "execution_count": 11,
     "metadata": {},
     "output_type": "execute_result"
    }
   ],
   "source": [
    "all_columns = pd.Series(list(offers)+list(orders))\n",
    "all_columns[all_columns.duplicated()]"
   ]
  },
  {
   "cell_type": "markdown",
   "id": "d0295ed1",
   "metadata": {},
   "source": [
    "Merge two datasets on the 'order_gk' column for easier manipulation and analysis."
   ]
  },
  {
   "cell_type": "code",
   "execution_count": 12,
   "id": "de4af0fb",
   "metadata": {},
   "outputs": [
    {
     "data": {
      "text/html": [
       "<div>\n",
       "<style scoped>\n",
       "    .dataframe tbody tr th:only-of-type {\n",
       "        vertical-align: middle;\n",
       "    }\n",
       "\n",
       "    .dataframe tbody tr th {\n",
       "        vertical-align: top;\n",
       "    }\n",
       "\n",
       "    .dataframe thead th {\n",
       "        text-align: right;\n",
       "    }\n",
       "</style>\n",
       "<table border=\"1\" class=\"dataframe\">\n",
       "  <thead>\n",
       "    <tr style=\"text-align: right;\">\n",
       "      <th></th>\n",
       "      <th>order_datetime</th>\n",
       "      <th>origin_longitude</th>\n",
       "      <th>origin_latitude</th>\n",
       "      <th>m_order_eta</th>\n",
       "      <th>order_gk</th>\n",
       "      <th>order_status_key</th>\n",
       "      <th>is_driver_assigned_key</th>\n",
       "      <th>cancellations_time_in_seconds</th>\n",
       "      <th>offer_id</th>\n",
       "    </tr>\n",
       "  </thead>\n",
       "  <tbody>\n",
       "    <tr>\n",
       "      <th>0</th>\n",
       "      <td>2023-08-14 18:08:07</td>\n",
       "      <td>-0.978916</td>\n",
       "      <td>51.456173</td>\n",
       "      <td>60.0</td>\n",
       "      <td>3000583041974</td>\n",
       "      <td>4</td>\n",
       "      <td>1</td>\n",
       "      <td>198.0</td>\n",
       "      <td>300050983403</td>\n",
       "    </tr>\n",
       "    <tr>\n",
       "      <th>1</th>\n",
       "      <td>2023-08-14 20:57:32</td>\n",
       "      <td>-0.950385</td>\n",
       "      <td>51.456843</td>\n",
       "      <td>NaN</td>\n",
       "      <td>3000583116437</td>\n",
       "      <td>4</td>\n",
       "      <td>0</td>\n",
       "      <td>128.0</td>\n",
       "      <td>300050986179</td>\n",
       "    </tr>\n",
       "    <tr>\n",
       "      <th>2</th>\n",
       "      <td>2023-08-14 20:57:32</td>\n",
       "      <td>-0.950385</td>\n",
       "      <td>51.456843</td>\n",
       "      <td>NaN</td>\n",
       "      <td>3000583116437</td>\n",
       "      <td>4</td>\n",
       "      <td>0</td>\n",
       "      <td>128.0</td>\n",
       "      <td>300050986174</td>\n",
       "    </tr>\n",
       "    <tr>\n",
       "      <th>3</th>\n",
       "      <td>2023-08-14 20:57:32</td>\n",
       "      <td>-0.950385</td>\n",
       "      <td>51.456843</td>\n",
       "      <td>NaN</td>\n",
       "      <td>3000583116437</td>\n",
       "      <td>4</td>\n",
       "      <td>0</td>\n",
       "      <td>128.0</td>\n",
       "      <td>300050986180</td>\n",
       "    </tr>\n",
       "    <tr>\n",
       "      <th>4</th>\n",
       "      <td>2023-08-14 12:07:50</td>\n",
       "      <td>-0.969520</td>\n",
       "      <td>51.455544</td>\n",
       "      <td>477.0</td>\n",
       "      <td>3000582891479</td>\n",
       "      <td>4</td>\n",
       "      <td>1</td>\n",
       "      <td>46.0</td>\n",
       "      <td>300050976275</td>\n",
       "    </tr>\n",
       "  </tbody>\n",
       "</table>\n",
       "</div>"
      ],
      "text/plain": [
       "       order_datetime  origin_longitude  origin_latitude  m_order_eta  \\\n",
       "0 2023-08-14 18:08:07         -0.978916        51.456173         60.0   \n",
       "1 2023-08-14 20:57:32         -0.950385        51.456843          NaN   \n",
       "2 2023-08-14 20:57:32         -0.950385        51.456843          NaN   \n",
       "3 2023-08-14 20:57:32         -0.950385        51.456843          NaN   \n",
       "4 2023-08-14 12:07:50         -0.969520        51.455544        477.0   \n",
       "\n",
       "        order_gk  order_status_key  is_driver_assigned_key  \\\n",
       "0  3000583041974                 4                       1   \n",
       "1  3000583116437                 4                       0   \n",
       "2  3000583116437                 4                       0   \n",
       "3  3000583116437                 4                       0   \n",
       "4  3000582891479                 4                       1   \n",
       "\n",
       "   cancellations_time_in_seconds      offer_id  \n",
       "0                          198.0  300050983403  \n",
       "1                          128.0  300050986179  \n",
       "2                          128.0  300050986174  \n",
       "3                          128.0  300050986180  \n",
       "4                           46.0  300050976275  "
      ]
     },
     "execution_count": 12,
     "metadata": {},
     "output_type": "execute_result"
    }
   ],
   "source": [
    "df = pd.merge(orders, offers, how = 'inner', on = 'order_gk')\n",
    "df.head()"
   ]
  },
  {
   "cell_type": "markdown",
   "id": "2c4cdafa",
   "metadata": {},
   "source": [
    "In order to better contextualize the data, I will change the binary variables 'is_driver_assigned_key' and 'order_status_key' to strings with actual meaning.\n",
    "\n",
    "'is_driver_assigned_key': \n",
    "                \n",
    "               1->Yes\n",
    "\n",
    "               0->No\n",
    "               \n",
    "'order_status_key': \n",
    "              \n",
    "              4->Client_cancelled\n",
    "\n",
    "              9->System_rejected "
   ]
  },
  {
   "cell_type": "code",
   "execution_count": 13,
   "id": "c32141f4",
   "metadata": {},
   "outputs": [],
   "source": [
    "df['is_driver_assigned_key'] = np.where(df['is_driver_assigned_key']==1, 'Yes', 'No')\n",
    "df['order_status_key'] = np.where(df['order_status_key']==4, 'Client_cancelled', 'System_rejected')"
   ]
  },
  {
   "cell_type": "code",
   "execution_count": 14,
   "id": "fc16240f",
   "metadata": {},
   "outputs": [],
   "source": [
    "df.rename(columns = {'order_datetime':'order_time','order_longtitude':'longtitude',\n",
    "                    'origin_latitude':'latitude','m_order_eta':'ETA','order_gk':'order_id',\n",
    "                    'order_status_key':'order_status','is_driver_assigned_key':'is_driver_assigned',\n",
    "                    'cancellations_time_in_seconds':'cancellation_time'}, inplace=True)"
   ]
  },
  {
   "cell_type": "code",
   "execution_count": 15,
   "id": "b208c52a",
   "metadata": {},
   "outputs": [
    {
     "data": {
      "text/html": [
       "<div>\n",
       "<style scoped>\n",
       "    .dataframe tbody tr th:only-of-type {\n",
       "        vertical-align: middle;\n",
       "    }\n",
       "\n",
       "    .dataframe tbody tr th {\n",
       "        vertical-align: top;\n",
       "    }\n",
       "\n",
       "    .dataframe thead th {\n",
       "        text-align: right;\n",
       "    }\n",
       "</style>\n",
       "<table border=\"1\" class=\"dataframe\">\n",
       "  <thead>\n",
       "    <tr style=\"text-align: right;\">\n",
       "      <th></th>\n",
       "      <th>order_time</th>\n",
       "      <th>origin_longitude</th>\n",
       "      <th>latitude</th>\n",
       "      <th>ETA</th>\n",
       "      <th>order_id</th>\n",
       "      <th>order_status</th>\n",
       "      <th>is_driver_assigned</th>\n",
       "      <th>cancellation_time</th>\n",
       "      <th>offer_id</th>\n",
       "    </tr>\n",
       "  </thead>\n",
       "  <tbody>\n",
       "    <tr>\n",
       "      <th>0</th>\n",
       "      <td>2023-08-14 18:08:07</td>\n",
       "      <td>-0.978916</td>\n",
       "      <td>51.456173</td>\n",
       "      <td>60.0</td>\n",
       "      <td>3000583041974</td>\n",
       "      <td>Client_cancelled</td>\n",
       "      <td>Yes</td>\n",
       "      <td>198.0</td>\n",
       "      <td>300050983403</td>\n",
       "    </tr>\n",
       "    <tr>\n",
       "      <th>1</th>\n",
       "      <td>2023-08-14 20:57:32</td>\n",
       "      <td>-0.950385</td>\n",
       "      <td>51.456843</td>\n",
       "      <td>NaN</td>\n",
       "      <td>3000583116437</td>\n",
       "      <td>Client_cancelled</td>\n",
       "      <td>No</td>\n",
       "      <td>128.0</td>\n",
       "      <td>300050986179</td>\n",
       "    </tr>\n",
       "    <tr>\n",
       "      <th>2</th>\n",
       "      <td>2023-08-14 20:57:32</td>\n",
       "      <td>-0.950385</td>\n",
       "      <td>51.456843</td>\n",
       "      <td>NaN</td>\n",
       "      <td>3000583116437</td>\n",
       "      <td>Client_cancelled</td>\n",
       "      <td>No</td>\n",
       "      <td>128.0</td>\n",
       "      <td>300050986174</td>\n",
       "    </tr>\n",
       "    <tr>\n",
       "      <th>3</th>\n",
       "      <td>2023-08-14 20:57:32</td>\n",
       "      <td>-0.950385</td>\n",
       "      <td>51.456843</td>\n",
       "      <td>NaN</td>\n",
       "      <td>3000583116437</td>\n",
       "      <td>Client_cancelled</td>\n",
       "      <td>No</td>\n",
       "      <td>128.0</td>\n",
       "      <td>300050986180</td>\n",
       "    </tr>\n",
       "    <tr>\n",
       "      <th>4</th>\n",
       "      <td>2023-08-14 12:07:50</td>\n",
       "      <td>-0.969520</td>\n",
       "      <td>51.455544</td>\n",
       "      <td>477.0</td>\n",
       "      <td>3000582891479</td>\n",
       "      <td>Client_cancelled</td>\n",
       "      <td>Yes</td>\n",
       "      <td>46.0</td>\n",
       "      <td>300050976275</td>\n",
       "    </tr>\n",
       "  </tbody>\n",
       "</table>\n",
       "</div>"
      ],
      "text/plain": [
       "           order_time  origin_longitude   latitude    ETA       order_id  \\\n",
       "0 2023-08-14 18:08:07         -0.978916  51.456173   60.0  3000583041974   \n",
       "1 2023-08-14 20:57:32         -0.950385  51.456843    NaN  3000583116437   \n",
       "2 2023-08-14 20:57:32         -0.950385  51.456843    NaN  3000583116437   \n",
       "3 2023-08-14 20:57:32         -0.950385  51.456843    NaN  3000583116437   \n",
       "4 2023-08-14 12:07:50         -0.969520  51.455544  477.0  3000582891479   \n",
       "\n",
       "       order_status is_driver_assigned  cancellation_time      offer_id  \n",
       "0  Client_cancelled                Yes              198.0  300050983403  \n",
       "1  Client_cancelled                 No              128.0  300050986179  \n",
       "2  Client_cancelled                 No              128.0  300050986174  \n",
       "3  Client_cancelled                 No              128.0  300050986180  \n",
       "4  Client_cancelled                Yes               46.0  300050976275  "
      ]
     },
     "execution_count": 15,
     "metadata": {},
     "output_type": "execute_result"
    }
   ],
   "source": [
    "df.head()"
   ]
  },
  {
   "cell_type": "markdown",
   "id": "a623dc1c",
   "metadata": {},
   "source": [
    "## Explanatory data analysis"
   ]
  },
  {
   "cell_type": "markdown",
   "id": "b5b4f6f3",
   "metadata": {},
   "source": [
    "### Part 1"
   ]
  },
  {
   "cell_type": "markdown",
   "id": "d4738545",
   "metadata": {},
   "source": [
    "Building up a distribution of orders according to reasons for failure: cancellations before and after assignment, and the reason for order rejection."
   ]
  },
  {
   "cell_type": "code",
   "execution_count": 34,
   "id": "71b660ef",
   "metadata": {},
   "outputs": [
    {
     "data": {
      "text/html": [
       "<div>\n",
       "<style scoped>\n",
       "    .dataframe tbody tr th:only-of-type {\n",
       "        vertical-align: middle;\n",
       "    }\n",
       "\n",
       "    .dataframe tbody tr th {\n",
       "        vertical-align: top;\n",
       "    }\n",
       "\n",
       "    .dataframe thead th {\n",
       "        text-align: right;\n",
       "    }\n",
       "</style>\n",
       "<table border=\"1\" class=\"dataframe\">\n",
       "  <thead>\n",
       "    <tr style=\"text-align: right;\">\n",
       "      <th></th>\n",
       "      <th>is_driver_assigned</th>\n",
       "      <th>order_status</th>\n",
       "      <th>order_id</th>\n",
       "      <th>total</th>\n",
       "      <th>percentage</th>\n",
       "    </tr>\n",
       "  </thead>\n",
       "  <tbody>\n",
       "    <tr>\n",
       "      <th>0</th>\n",
       "      <td>No</td>\n",
       "      <td>Client_cancelled</td>\n",
       "      <td>13435</td>\n",
       "      <td>22904</td>\n",
       "      <td>0.586579</td>\n",
       "    </tr>\n",
       "    <tr>\n",
       "      <th>1</th>\n",
       "      <td>No</td>\n",
       "      <td>System_rejected</td>\n",
       "      <td>9469</td>\n",
       "      <td>22904</td>\n",
       "      <td>0.413421</td>\n",
       "    </tr>\n",
       "    <tr>\n",
       "      <th>2</th>\n",
       "      <td>Yes</td>\n",
       "      <td>Client_cancelled</td>\n",
       "      <td>8360</td>\n",
       "      <td>8364</td>\n",
       "      <td>0.999522</td>\n",
       "    </tr>\n",
       "    <tr>\n",
       "      <th>3</th>\n",
       "      <td>Yes</td>\n",
       "      <td>System_rejected</td>\n",
       "      <td>4</td>\n",
       "      <td>8364</td>\n",
       "      <td>0.000478</td>\n",
       "    </tr>\n",
       "  </tbody>\n",
       "</table>\n",
       "</div>"
      ],
      "text/plain": [
       "  is_driver_assigned      order_status  order_id  total  percentage\n",
       "0                 No  Client_cancelled     13435  22904    0.586579\n",
       "1                 No   System_rejected      9469  22904    0.413421\n",
       "2                Yes  Client_cancelled      8360   8364    0.999522\n",
       "3                Yes   System_rejected         4   8364    0.000478"
      ]
     },
     "execution_count": 34,
     "metadata": {},
     "output_type": "execute_result"
    }
   ],
   "source": [
    "cancellations = df.groupby(['is_driver_assigned', 'order_status']).order_id.size().reset_index()\n",
    "cancellations['total'] = cancellations.groupby('is_driver_assigned')['order_id'].transform('sum')\n",
    "cancellations['percentage'] = cancellations.order_id/cancellations.total\n",
    "cancellations"
   ]
  },
  {
   "cell_type": "code",
   "execution_count": 41,
   "id": "e7876650",
   "metadata": {},
   "outputs": [
    {
     "data": {
      "text/plain": [
       "<Axes: title={'center': 'Distribution of cancellations according to reasons for failure'}, ylabel='Number of cancellations'>"
      ]
     },
     "execution_count": 41,
     "metadata": {},
     "output_type": "execute_result"
    },
    {
     "data": {
      "image/png": "[encoded data removed]",
      "text/plain": [
       "<Figure size 640x480 with 1 Axes>"
      ]
     },
     "metadata": {},
     "output_type": "display_data"
    }
   ],
   "source": [
    "cancellations[['order_id','total']].plot(kind='bar', legend=True, subplots=False, ylabel='Number of cancellations', title = 'Distribution of cancellations according to reasons for failure')"
   ]
  },
  {
   "cell_type": "markdown",
   "id": "4dc091c0",
   "metadata": {},
   "source": [
    "   It is observed that the majority of cancellations are made before drivers are assigned. In this scenario, 59% of cancellations are due to 'client cancel' and the rest are caused by 'system rejection'. A possible explanation would be that clients wait to long before getting assigned a driver.\n",
    "    \n",
    "   However, after a driver is assigned, almost all the cancellations(over 99%) are caused by 'client cancel'."
   ]
  },
  {
   "cell_type": "markdown",
   "id": "dbd72547",
   "metadata": {},
   "source": [
    "### Part 2"
   ]
  },
  {
   "cell_type": "markdown",
   "id": "c7349b3c",
   "metadata": {},
   "source": [
    "Plotting the distribution of failed orders by hour, and check is there a trend that certain hours have an abnormally high proportion of one category than another, and how could the trend be explained."
   ]
  },
  {
   "cell_type": "code",
   "execution_count": 42,
   "id": "96c5b884",
   "metadata": {},
   "outputs": [
    {
     "data": {
      "text/html": [
       "<div>\n",
       "<style scoped>\n",
       "    .dataframe tbody tr th:only-of-type {\n",
       "        vertical-align: middle;\n",
       "    }\n",
       "\n",
       "    .dataframe tbody tr th {\n",
       "        vertical-align: top;\n",
       "    }\n",
       "\n",
       "    .dataframe thead th {\n",
       "        text-align: right;\n",
       "    }\n",
       "</style>\n",
       "<table border=\"1\" class=\"dataframe\">\n",
       "  <thead>\n",
       "    <tr style=\"text-align: right;\">\n",
       "      <th></th>\n",
       "      <th>order_time</th>\n",
       "      <th>origin_longitude</th>\n",
       "      <th>latitude</th>\n",
       "      <th>ETA</th>\n",
       "      <th>order_id</th>\n",
       "      <th>order_status</th>\n",
       "      <th>is_driver_assigned</th>\n",
       "      <th>cancellation_time</th>\n",
       "      <th>offer_id</th>\n",
       "      <th>order_hour</th>\n",
       "    </tr>\n",
       "  </thead>\n",
       "  <tbody>\n",
       "    <tr>\n",
       "      <th>0</th>\n",
       "      <td>2023-08-14 18:08:07</td>\n",
       "      <td>-0.978916</td>\n",
       "      <td>51.456173</td>\n",
       "      <td>60.0</td>\n",
       "      <td>3000583041974</td>\n",
       "      <td>Client_cancelled</td>\n",
       "      <td>Yes</td>\n",
       "      <td>198.0</td>\n",
       "      <td>300050983403</td>\n",
       "      <td>18</td>\n",
       "    </tr>\n",
       "    <tr>\n",
       "      <th>1</th>\n",
       "      <td>2023-08-14 20:57:32</td>\n",
       "      <td>-0.950385</td>\n",
       "      <td>51.456843</td>\n",
       "      <td>NaN</td>\n",
       "      <td>3000583116437</td>\n",
       "      <td>Client_cancelled</td>\n",
       "      <td>No</td>\n",
       "      <td>128.0</td>\n",
       "      <td>300050986179</td>\n",
       "      <td>20</td>\n",
       "    </tr>\n",
       "    <tr>\n",
       "      <th>2</th>\n",
       "      <td>2023-08-14 20:57:32</td>\n",
       "      <td>-0.950385</td>\n",
       "      <td>51.456843</td>\n",
       "      <td>NaN</td>\n",
       "      <td>3000583116437</td>\n",
       "      <td>Client_cancelled</td>\n",
       "      <td>No</td>\n",
       "      <td>128.0</td>\n",
       "      <td>300050986174</td>\n",
       "      <td>20</td>\n",
       "    </tr>\n",
       "    <tr>\n",
       "      <th>3</th>\n",
       "      <td>2023-08-14 20:57:32</td>\n",
       "      <td>-0.950385</td>\n",
       "      <td>51.456843</td>\n",
       "      <td>NaN</td>\n",
       "      <td>3000583116437</td>\n",
       "      <td>Client_cancelled</td>\n",
       "      <td>No</td>\n",
       "      <td>128.0</td>\n",
       "      <td>300050986180</td>\n",
       "      <td>20</td>\n",
       "    </tr>\n",
       "    <tr>\n",
       "      <th>4</th>\n",
       "      <td>2023-08-14 12:07:50</td>\n",
       "      <td>-0.969520</td>\n",
       "      <td>51.455544</td>\n",
       "      <td>477.0</td>\n",
       "      <td>3000582891479</td>\n",
       "      <td>Client_cancelled</td>\n",
       "      <td>Yes</td>\n",
       "      <td>46.0</td>\n",
       "      <td>300050976275</td>\n",
       "      <td>12</td>\n",
       "    </tr>\n",
       "  </tbody>\n",
       "</table>\n",
       "</div>"
      ],
      "text/plain": [
       "           order_time  origin_longitude   latitude    ETA       order_id  \\\n",
       "0 2023-08-14 18:08:07         -0.978916  51.456173   60.0  3000583041974   \n",
       "1 2023-08-14 20:57:32         -0.950385  51.456843    NaN  3000583116437   \n",
       "2 2023-08-14 20:57:32         -0.950385  51.456843    NaN  3000583116437   \n",
       "3 2023-08-14 20:57:32         -0.950385  51.456843    NaN  3000583116437   \n",
       "4 2023-08-14 12:07:50         -0.969520  51.455544  477.0  3000582891479   \n",
       "\n",
       "       order_status is_driver_assigned  cancellation_time      offer_id  \\\n",
       "0  Client_cancelled                Yes              198.0  300050983403   \n",
       "1  Client_cancelled                 No              128.0  300050986179   \n",
       "2  Client_cancelled                 No              128.0  300050986174   \n",
       "3  Client_cancelled                 No              128.0  300050986180   \n",
       "4  Client_cancelled                Yes               46.0  300050976275   \n",
       "\n",
       "   order_hour  \n",
       "0          18  \n",
       "1          20  \n",
       "2          20  \n",
       "3          20  \n",
       "4          12  "
      ]
     },
     "execution_count": 42,
     "metadata": {},
     "output_type": "execute_result"
    }
   ],
   "source": [
    "df['order_hour'] = df['order_time'].dt.hour\n",
    "df.head()"
   ]
  },
  {
   "cell_type": "code",
   "execution_count": 43,
   "id": "ea10af6a",
   "metadata": {},
   "outputs": [
    {
     "data": {
      "text/plain": [
       "<Axes: xlabel='order_hour', ylabel='Number of cancellations'>"
      ]
     },
     "execution_count": 43,
     "metadata": {},
     "output_type": "execute_result"
    },
    {
     "data": {
      "image/png": "[encoded data removed]",
      "text/plain": [
       "<Figure size 640x480 with 1 Axes>"
      ]
     },
     "metadata": {},
     "output_type": "display_data"
    }
   ],
   "source": [
    "df.groupby('order_hour')['order_id'].size().plot(kind='bar', ylabel='Number of cancellations')"
   ]
  },
  {
   "cell_type": "markdown",
   "id": "f2b496a9",
   "metadata": {},
   "source": [
    "It is observed from the above graph that the largest number of cancellations occur at 8, followed by 21 and 23.\n",
    "\n",
    "To deeper our understanding of cancellatios by category, I will breakdown this data by hour and by category."
   ]
  },
  {
   "cell_type": "code",
   "execution_count": 44,
   "id": "3bc2e912",
   "metadata": {},
   "outputs": [
    {
     "data": {
      "text/html": [
       "<div>\n",
       "<style scoped>\n",
       "    .dataframe tbody tr th:only-of-type {\n",
       "        vertical-align: middle;\n",
       "    }\n",
       "\n",
       "    .dataframe tbody tr th {\n",
       "        vertical-align: top;\n",
       "    }\n",
       "\n",
       "    .dataframe thead th {\n",
       "        text-align: right;\n",
       "    }\n",
       "</style>\n",
       "<table border=\"1\" class=\"dataframe\">\n",
       "  <thead>\n",
       "    <tr style=\"text-align: right;\">\n",
       "      <th></th>\n",
       "      <th>order_hour</th>\n",
       "      <th>is_driver_assigned</th>\n",
       "      <th>order_status</th>\n",
       "      <th>order_id</th>\n",
       "    </tr>\n",
       "  </thead>\n",
       "  <tbody>\n",
       "    <tr>\n",
       "      <th>0</th>\n",
       "      <td>0</td>\n",
       "      <td>No</td>\n",
       "      <td>Client_cancelled</td>\n",
       "      <td>957</td>\n",
       "    </tr>\n",
       "    <tr>\n",
       "      <th>1</th>\n",
       "      <td>0</td>\n",
       "      <td>No</td>\n",
       "      <td>System_rejected</td>\n",
       "      <td>706</td>\n",
       "    </tr>\n",
       "    <tr>\n",
       "      <th>2</th>\n",
       "      <td>0</td>\n",
       "      <td>Yes</td>\n",
       "      <td>Client_cancelled</td>\n",
       "      <td>326</td>\n",
       "    </tr>\n",
       "    <tr>\n",
       "      <th>3</th>\n",
       "      <td>0</td>\n",
       "      <td>Yes</td>\n",
       "      <td>System_rejected</td>\n",
       "      <td>4</td>\n",
       "    </tr>\n",
       "    <tr>\n",
       "      <th>4</th>\n",
       "      <td>1</td>\n",
       "      <td>No</td>\n",
       "      <td>Client_cancelled</td>\n",
       "      <td>633</td>\n",
       "    </tr>\n",
       "    <tr>\n",
       "      <th>...</th>\n",
       "      <td>...</td>\n",
       "      <td>...</td>\n",
       "      <td>...</td>\n",
       "      <td>...</td>\n",
       "    </tr>\n",
       "    <tr>\n",
       "      <th>68</th>\n",
       "      <td>22</td>\n",
       "      <td>No</td>\n",
       "      <td>System_rejected</td>\n",
       "      <td>660</td>\n",
       "    </tr>\n",
       "    <tr>\n",
       "      <th>69</th>\n",
       "      <td>22</td>\n",
       "      <td>Yes</td>\n",
       "      <td>Client_cancelled</td>\n",
       "      <td>415</td>\n",
       "    </tr>\n",
       "    <tr>\n",
       "      <th>70</th>\n",
       "      <td>23</td>\n",
       "      <td>No</td>\n",
       "      <td>Client_cancelled</td>\n",
       "      <td>1144</td>\n",
       "    </tr>\n",
       "    <tr>\n",
       "      <th>71</th>\n",
       "      <td>23</td>\n",
       "      <td>No</td>\n",
       "      <td>System_rejected</td>\n",
       "      <td>883</td>\n",
       "    </tr>\n",
       "    <tr>\n",
       "      <th>72</th>\n",
       "      <td>23</td>\n",
       "      <td>Yes</td>\n",
       "      <td>Client_cancelled</td>\n",
       "      <td>444</td>\n",
       "    </tr>\n",
       "  </tbody>\n",
       "</table>\n",
       "<p>73 rows × 4 columns</p>\n",
       "</div>"
      ],
      "text/plain": [
       "    order_hour is_driver_assigned      order_status  order_id\n",
       "0            0                 No  Client_cancelled       957\n",
       "1            0                 No   System_rejected       706\n",
       "2            0                Yes  Client_cancelled       326\n",
       "3            0                Yes   System_rejected         4\n",
       "4            1                 No  Client_cancelled       633\n",
       "..         ...                ...               ...       ...\n",
       "68          22                 No   System_rejected       660\n",
       "69          22                Yes  Client_cancelled       415\n",
       "70          23                 No  Client_cancelled      1144\n",
       "71          23                 No   System_rejected       883\n",
       "72          23                Yes  Client_cancelled       444\n",
       "\n",
       "[73 rows x 4 columns]"
      ]
     },
     "execution_count": 44,
     "metadata": {},
     "output_type": "execute_result"
    }
   ],
   "source": [
    "q2 = df.groupby(['order_hour','is_driver_assigned','order_status'])['order_id'].size().reset_index()\n",
    "q2"
   ]
  },
  {
   "cell_type": "code",
   "execution_count": 51,
   "id": "78350296",
   "metadata": {},
   "outputs": [
    {
     "data": {
      "text/plain": [
       "<Axes: xlabel='order_hour', ylabel='Number of cancellations'>"
      ]
     },
     "execution_count": 51,
     "metadata": {},
     "output_type": "execute_result"
    },
    {
     "data": {
      "image/png": "[encoded data removed]",
      "text/plain": [
       "<Figure size 1300x700 with 1 Axes>"
      ]
     },
     "metadata": {},
     "output_type": "display_data"
    }
   ],
   "source": [
    "q2_pivot = q2.pivot(index='order_hour',columns=['is_driver_assigned','order_status'],values='order_id')\n",
    "q2_pivot.plot(kind='bar', figsize=(13,7), width=0.7, ylabel='Number of cancellations')"
   ]
  },
  {
   "cell_type": "markdown",
   "id": "d6b888fa",
   "metadata": {},
   "source": [
    "From the breakdown of cancellations by category, it is observed that high cancellations across all sections contribute to the largest number of cancelled orders at 8. This could be explained by massive demands for transportation to work in the morning. Due to the requirement of timely arrival, customers will not wait for too long, resulting in high volume of cancelled orders."
   ]
  },
  {
   "cell_type": "markdown",
   "id": "ad35a58a",
   "metadata": {},
   "source": [
    "### Part 3"
   ]
  },
  {
   "cell_type": "markdown",
   "id": "df68e7b9",
   "metadata": {},
   "source": [
    "Plotting the average time to cancellation with and without drive to check if there are any outliers in the data. If there are, remove them and draw further conclusions from the plot"
   ]
  },
  {
   "cell_type": "code",
   "execution_count": 54,
   "id": "6346a579",
   "metadata": {},
   "outputs": [
    {
     "data": {
      "text/html": [
       "<div>\n",
       "<style scoped>\n",
       "    .dataframe tbody tr th:only-of-type {\n",
       "        vertical-align: middle;\n",
       "    }\n",
       "\n",
       "    .dataframe tbody tr th {\n",
       "        vertical-align: top;\n",
       "    }\n",
       "\n",
       "    .dataframe thead th {\n",
       "        text-align: right;\n",
       "    }\n",
       "</style>\n",
       "<table border=\"1\" class=\"dataframe\">\n",
       "  <thead>\n",
       "    <tr style=\"text-align: right;\">\n",
       "      <th></th>\n",
       "      <th>order_hour</th>\n",
       "      <th>is_driver_assigned</th>\n",
       "      <th>cancellation_time</th>\n",
       "    </tr>\n",
       "  </thead>\n",
       "  <tbody>\n",
       "    <tr>\n",
       "      <th>0</th>\n",
       "      <td>0</td>\n",
       "      <td>No</td>\n",
       "      <td>115.126437</td>\n",
       "    </tr>\n",
       "    <tr>\n",
       "      <th>1</th>\n",
       "      <td>0</td>\n",
       "      <td>Yes</td>\n",
       "      <td>276.082822</td>\n",
       "    </tr>\n",
       "    <tr>\n",
       "      <th>2</th>\n",
       "      <td>1</td>\n",
       "      <td>No</td>\n",
       "      <td>100.593997</td>\n",
       "    </tr>\n",
       "    <tr>\n",
       "      <th>3</th>\n",
       "      <td>1</td>\n",
       "      <td>Yes</td>\n",
       "      <td>296.312081</td>\n",
       "    </tr>\n",
       "    <tr>\n",
       "      <th>4</th>\n",
       "      <td>2</td>\n",
       "      <td>No</td>\n",
       "      <td>121.305461</td>\n",
       "    </tr>\n",
       "    <tr>\n",
       "      <th>5</th>\n",
       "      <td>2</td>\n",
       "      <td>Yes</td>\n",
       "      <td>301.466667</td>\n",
       "    </tr>\n",
       "    <tr>\n",
       "      <th>6</th>\n",
       "      <td>3</td>\n",
       "      <td>No</td>\n",
       "      <td>129.182301</td>\n",
       "    </tr>\n",
       "    <tr>\n",
       "      <th>7</th>\n",
       "      <td>3</td>\n",
       "      <td>Yes</td>\n",
       "      <td>368.682051</td>\n",
       "    </tr>\n",
       "    <tr>\n",
       "      <th>8</th>\n",
       "      <td>4</td>\n",
       "      <td>No</td>\n",
       "      <td>100.733333</td>\n",
       "    </tr>\n",
       "    <tr>\n",
       "      <th>9</th>\n",
       "      <td>4</td>\n",
       "      <td>Yes</td>\n",
       "      <td>245.250000</td>\n",
       "    </tr>\n",
       "    <tr>\n",
       "      <th>10</th>\n",
       "      <td>5</td>\n",
       "      <td>No</td>\n",
       "      <td>102.838710</td>\n",
       "    </tr>\n",
       "    <tr>\n",
       "      <th>11</th>\n",
       "      <td>5</td>\n",
       "      <td>Yes</td>\n",
       "      <td>156.617021</td>\n",
       "    </tr>\n",
       "    <tr>\n",
       "      <th>12</th>\n",
       "      <td>6</td>\n",
       "      <td>No</td>\n",
       "      <td>202.952663</td>\n",
       "    </tr>\n",
       "    <tr>\n",
       "      <th>13</th>\n",
       "      <td>6</td>\n",
       "      <td>Yes</td>\n",
       "      <td>225.508772</td>\n",
       "    </tr>\n",
       "    <tr>\n",
       "      <th>14</th>\n",
       "      <td>7</td>\n",
       "      <td>No</td>\n",
       "      <td>141.177820</td>\n",
       "    </tr>\n",
       "    <tr>\n",
       "      <th>15</th>\n",
       "      <td>7</td>\n",
       "      <td>Yes</td>\n",
       "      <td>177.640232</td>\n",
       "    </tr>\n",
       "    <tr>\n",
       "      <th>16</th>\n",
       "      <td>8</td>\n",
       "      <td>No</td>\n",
       "      <td>132.625432</td>\n",
       "    </tr>\n",
       "    <tr>\n",
       "      <th>17</th>\n",
       "      <td>8</td>\n",
       "      <td>Yes</td>\n",
       "      <td>172.896296</td>\n",
       "    </tr>\n",
       "    <tr>\n",
       "      <th>18</th>\n",
       "      <td>9</td>\n",
       "      <td>No</td>\n",
       "      <td>138.014894</td>\n",
       "    </tr>\n",
       "    <tr>\n",
       "      <th>19</th>\n",
       "      <td>9</td>\n",
       "      <td>Yes</td>\n",
       "      <td>230.821862</td>\n",
       "    </tr>\n",
       "    <tr>\n",
       "      <th>20</th>\n",
       "      <td>10</td>\n",
       "      <td>No</td>\n",
       "      <td>93.795082</td>\n",
       "    </tr>\n",
       "    <tr>\n",
       "      <th>21</th>\n",
       "      <td>10</td>\n",
       "      <td>Yes</td>\n",
       "      <td>206.447368</td>\n",
       "    </tr>\n",
       "    <tr>\n",
       "      <th>22</th>\n",
       "      <td>11</td>\n",
       "      <td>No</td>\n",
       "      <td>93.090323</td>\n",
       "    </tr>\n",
       "    <tr>\n",
       "      <th>23</th>\n",
       "      <td>11</td>\n",
       "      <td>Yes</td>\n",
       "      <td>276.793103</td>\n",
       "    </tr>\n",
       "    <tr>\n",
       "      <th>24</th>\n",
       "      <td>12</td>\n",
       "      <td>No</td>\n",
       "      <td>128.224299</td>\n",
       "    </tr>\n",
       "    <tr>\n",
       "      <th>25</th>\n",
       "      <td>12</td>\n",
       "      <td>Yes</td>\n",
       "      <td>243.000000</td>\n",
       "    </tr>\n",
       "    <tr>\n",
       "      <th>26</th>\n",
       "      <td>13</td>\n",
       "      <td>No</td>\n",
       "      <td>103.577982</td>\n",
       "    </tr>\n",
       "    <tr>\n",
       "      <th>27</th>\n",
       "      <td>13</td>\n",
       "      <td>Yes</td>\n",
       "      <td>248.301170</td>\n",
       "    </tr>\n",
       "    <tr>\n",
       "      <th>28</th>\n",
       "      <td>14</td>\n",
       "      <td>No</td>\n",
       "      <td>112.752412</td>\n",
       "    </tr>\n",
       "    <tr>\n",
       "      <th>29</th>\n",
       "      <td>14</td>\n",
       "      <td>Yes</td>\n",
       "      <td>241.367003</td>\n",
       "    </tr>\n",
       "    <tr>\n",
       "      <th>30</th>\n",
       "      <td>15</td>\n",
       "      <td>No</td>\n",
       "      <td>140.970492</td>\n",
       "    </tr>\n",
       "    <tr>\n",
       "      <th>31</th>\n",
       "      <td>15</td>\n",
       "      <td>Yes</td>\n",
       "      <td>188.380762</td>\n",
       "    </tr>\n",
       "    <tr>\n",
       "      <th>32</th>\n",
       "      <td>16</td>\n",
       "      <td>No</td>\n",
       "      <td>123.181102</td>\n",
       "    </tr>\n",
       "    <tr>\n",
       "      <th>33</th>\n",
       "      <td>16</td>\n",
       "      <td>Yes</td>\n",
       "      <td>217.126844</td>\n",
       "    </tr>\n",
       "    <tr>\n",
       "      <th>34</th>\n",
       "      <td>17</td>\n",
       "      <td>No</td>\n",
       "      <td>106.842593</td>\n",
       "    </tr>\n",
       "    <tr>\n",
       "      <th>35</th>\n",
       "      <td>17</td>\n",
       "      <td>Yes</td>\n",
       "      <td>280.782796</td>\n",
       "    </tr>\n",
       "    <tr>\n",
       "      <th>36</th>\n",
       "      <td>18</td>\n",
       "      <td>No</td>\n",
       "      <td>85.845638</td>\n",
       "    </tr>\n",
       "    <tr>\n",
       "      <th>37</th>\n",
       "      <td>18</td>\n",
       "      <td>Yes</td>\n",
       "      <td>270.277333</td>\n",
       "    </tr>\n",
       "    <tr>\n",
       "      <th>38</th>\n",
       "      <td>19</td>\n",
       "      <td>No</td>\n",
       "      <td>103.231405</td>\n",
       "    </tr>\n",
       "    <tr>\n",
       "      <th>39</th>\n",
       "      <td>19</td>\n",
       "      <td>Yes</td>\n",
       "      <td>151.039088</td>\n",
       "    </tr>\n",
       "    <tr>\n",
       "      <th>40</th>\n",
       "      <td>20</td>\n",
       "      <td>No</td>\n",
       "      <td>117.518072</td>\n",
       "    </tr>\n",
       "    <tr>\n",
       "      <th>41</th>\n",
       "      <td>20</td>\n",
       "      <td>Yes</td>\n",
       "      <td>214.517341</td>\n",
       "    </tr>\n",
       "    <tr>\n",
       "      <th>42</th>\n",
       "      <td>21</td>\n",
       "      <td>No</td>\n",
       "      <td>130.828290</td>\n",
       "    </tr>\n",
       "    <tr>\n",
       "      <th>43</th>\n",
       "      <td>21</td>\n",
       "      <td>Yes</td>\n",
       "      <td>224.443077</td>\n",
       "    </tr>\n",
       "    <tr>\n",
       "      <th>44</th>\n",
       "      <td>22</td>\n",
       "      <td>No</td>\n",
       "      <td>103.662474</td>\n",
       "    </tr>\n",
       "    <tr>\n",
       "      <th>45</th>\n",
       "      <td>22</td>\n",
       "      <td>Yes</td>\n",
       "      <td>230.720482</td>\n",
       "    </tr>\n",
       "    <tr>\n",
       "      <th>46</th>\n",
       "      <td>23</td>\n",
       "      <td>No</td>\n",
       "      <td>117.294580</td>\n",
       "    </tr>\n",
       "    <tr>\n",
       "      <th>47</th>\n",
       "      <td>23</td>\n",
       "      <td>Yes</td>\n",
       "      <td>320.189189</td>\n",
       "    </tr>\n",
       "  </tbody>\n",
       "</table>\n",
       "</div>"
      ],
      "text/plain": [
       "    order_hour is_driver_assigned  cancellation_time\n",
       "0            0                 No         115.126437\n",
       "1            0                Yes         276.082822\n",
       "2            1                 No         100.593997\n",
       "3            1                Yes         296.312081\n",
       "4            2                 No         121.305461\n",
       "5            2                Yes         301.466667\n",
       "6            3                 No         129.182301\n",
       "7            3                Yes         368.682051\n",
       "8            4                 No         100.733333\n",
       "9            4                Yes         245.250000\n",
       "10           5                 No         102.838710\n",
       "11           5                Yes         156.617021\n",
       "12           6                 No         202.952663\n",
       "13           6                Yes         225.508772\n",
       "14           7                 No         141.177820\n",
       "15           7                Yes         177.640232\n",
       "16           8                 No         132.625432\n",
       "17           8                Yes         172.896296\n",
       "18           9                 No         138.014894\n",
       "19           9                Yes         230.821862\n",
       "20          10                 No          93.795082\n",
       "21          10                Yes         206.447368\n",
       "22          11                 No          93.090323\n",
       "23          11                Yes         276.793103\n",
       "24          12                 No         128.224299\n",
       "25          12                Yes         243.000000\n",
       "26          13                 No         103.577982\n",
       "27          13                Yes         248.301170\n",
       "28          14                 No         112.752412\n",
       "29          14                Yes         241.367003\n",
       "30          15                 No         140.970492\n",
       "31          15                Yes         188.380762\n",
       "32          16                 No         123.181102\n",
       "33          16                Yes         217.126844\n",
       "34          17                 No         106.842593\n",
       "35          17                Yes         280.782796\n",
       "36          18                 No          85.845638\n",
       "37          18                Yes         270.277333\n",
       "38          19                 No         103.231405\n",
       "39          19                Yes         151.039088\n",
       "40          20                 No         117.518072\n",
       "41          20                Yes         214.517341\n",
       "42          21                 No         130.828290\n",
       "43          21                Yes         224.443077\n",
       "44          22                 No         103.662474\n",
       "45          22                Yes         230.720482\n",
       "46          23                 No         117.294580\n",
       "47          23                Yes         320.189189"
      ]
     },
     "execution_count": 54,
     "metadata": {},
     "output_type": "execute_result"
    }
   ],
   "source": [
    "q3 = df.groupby(['order_hour','is_driver_assigned'], as_index=False)['cancellation_time'].mean()\n",
    "q3"
   ]
  },
  {
   "cell_type": "code",
   "execution_count": 59,
   "id": "45c6c479",
   "metadata": {},
   "outputs": [
    {
     "data": {
      "text/plain": [
       "<Axes: xlabel='order_hour', ylabel='Average cancellation time'>"
      ]
     },
     "execution_count": 59,
     "metadata": {},
     "output_type": "execute_result"
    },
    {
     "data": {
      "image/png": "[encoded data removed]",
      "text/plain": [
       "<Figure size 1300x700 with 1 Axes>"
      ]
     },
     "metadata": {},
     "output_type": "display_data"
    }
   ],
   "source": [
    "q3_pivot = q3.pivot(index='order_hour', columns='is_driver_assigned',values='cancellation_time')\n",
    "\n",
    "q3_pivot.plot(kind='bar',figsize=(13,7),ylabel='Average cancellation time')"
   ]
  },
  {
   "cell_type": "markdown",
   "id": "9ca556e2",
   "metadata": {},
   "source": [
    "No exceptional outlier is detected in this case.\n",
    "\n",
    "The average time to cancel is longer for customers who have been assigned drivers than those without. This conclusion seems logical because customers are more likely to wait patiently when a driver is actually assigned."
   ]
  },
  {
   "cell_type": "markdown",
   "id": "ca86c2a7",
   "metadata": {},
   "source": [
    "### Part 4"
   ]
  },
  {
   "cell_type": "markdown",
   "id": "6bdf6a5b",
   "metadata": {},
   "source": [
    "Plotting the distribution of average ETA by hours and explain the trend observed in the plot."
   ]
  },
  {
   "cell_type": "code",
   "execution_count": 61,
   "id": "5e1aa0e6",
   "metadata": {},
   "outputs": [
    {
     "data": {
      "text/plain": [
       "<Axes: xlabel='order_hour', ylabel='Average ETA'>"
      ]
     },
     "execution_count": 61,
     "metadata": {},
     "output_type": "execute_result"
    },
    {
     "data": {
      "image/png": "[encoded data removed]",
      "text/plain": [
       "<Figure size 1300x700 with 1 Axes>"
      ]
     },
     "metadata": {},
     "output_type": "display_data"
    }
   ],
   "source": [
    "df.groupby('order_hour')['ETA'].mean().plot(kind='bar',figsize=(13,7),ylabel='Average ETA')"
   ]
  },
  {
   "cell_type": "markdown",
   "id": "06c808c2",
   "metadata": {},
   "source": [
    "This graph matches the previous graph on count of failed orders per hour, which indicates that failed orders is correlated with average waiting time of customers."
   ]
  },
  {
   "cell_type": "markdown",
   "id": "e8d85d4b",
   "metadata": {},
   "source": [
    "## Conclusion"
   ]
  },
  {
   "cell_type": "markdown",
   "id": "6a17fb19",
   "metadata": {},
   "source": [
    "A general overservation from this project is that the majority of cancellations happen before drivers are assigned, indicating that customers have waited too long to be assigned a driver.Incorporating our analysis by hour and cancellation category, we can reach the following recommendations to reduce cancellations:\n",
    "- Reduce wait time around 8:00 and 17:00, since this time coincides with rush hours when a large volume of transportation is demanded. This could potentially be achieved by offering more incentives to drivers during this time, and improving ordering platform to reduce latency.\n",
    "- No further context is provided regarding why the system would reject orders. I look forward to investigating further into this matter, as it is also a significant reason for cancellations."
   ]
  },
  {
   "cell_type": "code",
   "execution_count": null,
   "id": "e3164a0f",
   "metadata": {},
   "outputs": [],
   "source": []
  }
 ],
 "metadata": {
  "kernelspec": {
   "display_name": "Python 3 (ipykernel)",
   "language": "python",
   "name": "python3"
  },
  "language_info": {
   "codemirror_mode": {
    "name": "ipython",
    "version": 3
   },
   "file_extension": ".py",
   "mimetype": "text/x-python",
   "name": "python",
   "nbconvert_exporter": "python",
   "pygments_lexer": "ipython3",
   "version": "3.10.9"
  }
 },
 "nbformat": 4,
 "nbformat_minor": 5
}
